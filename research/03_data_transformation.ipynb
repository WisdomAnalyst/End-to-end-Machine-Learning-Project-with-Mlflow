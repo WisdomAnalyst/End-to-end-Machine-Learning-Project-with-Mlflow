{
 "cells": [
  {
   "cell_type": "code",
   "execution_count": 1,
   "metadata": {},
   "outputs": [],
   "source": [
    "import os"
   ]
  },
  {
   "cell_type": "code",
   "execution_count": 4,
   "metadata": {},
   "outputs": [
    {
     "data": {
      "text/plain": [
       "'c:\\\\Users\\\\user\\\\Desktop\\\\End-to end- ML-project-with-ML-flow\\\\End-to-end-Machine-Learning-Project-with-Mlflow'"
      ]
     },
     "execution_count": 4,
     "metadata": {},
     "output_type": "execute_result"
    }
   ],
   "source": [
    "pwd"
   ]
  },
  {
   "cell_type": "code",
   "execution_count": 5,
   "metadata": {},
   "outputs": [],
   "source": [
    "from dataclasses import dataclass\n",
    "from pathlib import Path\n",
    "\n",
    "@dataclass(frozen=True)\n",
    "class DataTransformationConfig:\n",
    "    root_dir: Path\n",
    "    data_path: Path\n",
    "    "
   ]
  },
  {
   "cell_type": "code",
   "execution_count": 6,
   "metadata": {},
   "outputs": [],
   "source": [
    "from Mlproject.constants import *\n",
    "from Mlproject.utils.common import read_yaml, create_directories"
   ]
  },
  {
   "cell_type": "code",
   "execution_count": 7,
   "metadata": {},
   "outputs": [],
   "source": [
    "import logging\n",
    "from pathlib import Path\n",
    "from box import ConfigBox\n",
    "\n",
    "logging.basicConfig(level=logging.INFO, format='[%(asctime)s]: %(message)s:')\n",
    "\n",
    "CONFIG_FILE_PATH = Path(\"config/config.yaml\")\n",
    "PARAMS_FILE_PATH = Path(\"params.yaml\")\n",
    "SCHEMA_FILE_PATH = Path(\"schema.yaml\")"
   ]
  },
  {
   "cell_type": "code",
   "execution_count": 8,
   "metadata": {},
   "outputs": [],
   "source": [
    "class ConfigurationManager:\n",
    "    def __init__(\n",
    "        self,\n",
    "        config_filepath = CONFIG_FILE_PATH,\n",
    "        params_filepath = PARAMS_FILE_PATH,\n",
    "        schema_filepath = SCHEMA_FILE_PATH\n",
    "    ):\n",
    "        self.config = ConfigBox(read_yaml(config_filepath))\n",
    "        self.params = ConfigBox(read_yaml(params_filepath))\n",
    "        self.schema = ConfigBox(read_yaml(schema_filepath))\n",
    "\n",
    "        \n",
    "        create_directories([self.config.artifacts_root])\n",
    "\n",
    "    def get_data_transformation_config(self) -> DataTransformationConfig:\n",
    "        try:\n",
    "            config = self.config.data_transformation\n",
    "            logging.info(f\"Data transformation config: {config}\")\n",
    "        except Exception as e:\n",
    "            logging.error(f\"Error reading data_transformation config: {str(e)}\")\n",
    "            logging.error(f\"Available config keys: {self.config.keys()}\")\n",
    "            raise\n",
    "\n",
    "        create_directories([config.root_dir])\n",
    "\n",
    "        data_transformation_config = DataTransformationConfig(\n",
    "            root_dir=Path(config.root_dir),\n",
    "            data_path=Path(config.data_path)\n",
    "        )\n",
    "\n",
    "        return data_transformation_config"
   ]
  },
  {
   "cell_type": "code",
   "execution_count": 9,
   "metadata": {},
   "outputs": [],
   "source": [
    "from Mlproject.constants import *\n",
    "from Mlproject.utils.common import read_yaml, create_directories\n",
    "from Mlproject.entity.config_entity import DataTransformationConfig\n",
    "from pathlib import Path\n",
    "\n",
    "class ConfigurationManager:\n",
    "    def __init__(\n",
    "        self,\n",
    "        config_filepath = CONFIG_FILE_PATH,\n",
    "        params_filepath = PARAMS_FILE_PATH,\n",
    "        schema_filepath = SCHEMA_FILE_PATH\n",
    "    ):\n",
    "        self.config = read_yaml(config_filepath)\n",
    "        self.params = read_yaml(params_filepath)\n",
    "        self.schema = read_yaml(schema_filepath)\n",
    "\n",
    "        create_directories([self.config.artifacts_root])\n",
    "\n",
    "    def get_data_transformation_config(self) -> DataTransformationConfig:\n",
    "        config = self.config.data_transformation\n",
    "\n",
    "        create_directories([config.root_dir])\n",
    "\n",
    "        data_transformation_config = DataTransformationConfig(\n",
    "            root_dir=Path(config.root_dir),\n",
    "            data_path=Path(config.data_path)\n",
    "        )\n",
    "\n",
    "        return data_transformation_config"
   ]
  },
  {
   "cell_type": "code",
   "execution_count": 10,
   "metadata": {},
   "outputs": [
    {
     "name": "stdout",
     "output_type": "stream",
     "text": [
      "Config file updated successfully!\n"
     ]
    }
   ],
   "source": [
    "def update_config():\n",
    "    try:\n",
    "        # Read existing config\n",
    "        with open(CONFIG_FILE_PATH, 'r') as f:\n",
    "            config = yaml.safe_load(f)\n",
    "        \n",
    "        # Add data_transformation section if it doesn't exist\n",
    "        if 'data_transformation' not in config:\n",
    "            config['data_transformation'] = {\n",
    "                'root_dir': 'artifacts/data_transformation',\n",
    "                'data_path': 'artifacts/data_ingestion/winequality-red.csv'\n",
    "            }\n",
    "        \n",
    "        # Write updated config\n",
    "        with open(CONFIG_FILE_PATH, 'w') as f:\n",
    "            yaml.dump(config, f, default_flow_style=False)\n",
    "            \n",
    "        print(\"Config file updated successfully!\")\n",
    "        \n",
    "    except Exception as e:\n",
    "        print(f\"Error updating config: {str(e)}\")\n",
    "\n",
    "# Run this to update your config file\n",
    "if __name__ == \"__main__\":\n",
    "    import yaml\n",
    "    update_config()"
   ]
  },
  {
   "cell_type": "code",
   "execution_count": 11,
   "metadata": {},
   "outputs": [],
   "source": [
    "import os\n",
    "import pandas as pd\n",
    "from sklearn.model_selection import train_test_split\n",
    "import logging\n",
    "from Mlproject.entity.config_entity import DataTransformationConfig\n",
    "\n"
   ]
  },
  {
   "cell_type": "code",
   "execution_count": 12,
   "metadata": {},
   "outputs": [],
   "source": [
    "class DataTransformation:\n",
    "    def __init__(self, config: DataTransformationConfig):\n",
    "        self.config = config\n",
    "\n",
    "    def train_test_spliting(self): \n",
    "        try:\n",
    "            # Read the data\n",
    "            data = pd.read_csv(self.config.data_path)\n",
    "\n",
    "            # Split the data into training and test sets \n",
    "            train, test = train_test_split(data, test_size=0.2, random_state=42)\n",
    "            \n",
    "            # Save the split datasets\n",
    "            train.to_csv(os.path.join(self.config.root_dir, \"train.csv\"), index=False)\n",
    "            test.to_csv(os.path.join(self.config.root_dir, \"test.csv\"), index=False)\n",
    "\n",
    "            # Log the information\n",
    "            logging.info(\"Split data into training and test sets\")\n",
    "            logging.info(f\"Training set shape: {train.shape}\")\n",
    "            logging.info(f\"Test set shape: {test.shape}\")\n",
    "\n",
    "            # Print shapes\n",
    "            print(f\"Training set shape: {train.shape}\")\n",
    "            print(f\"Test set shape: {test.shape}\")\n",
    "\n",
    "        except Exception as e:\n",
    "            logging.error(f\"Error in train_test_splitting: {str(e)}\")\n",
    "            raise e"
   ]
  },
  {
   "cell_type": "code",
   "execution_count": 13,
   "metadata": {},
   "outputs": [],
   "source": [
    "class DataTransformationTrainingPipeline:\n",
    "    def __init__(self):\n",
    "        pass\n",
    "\n",
    "    def main(self):\n",
    "        try:\n",
    "            # Check validation status\n",
    "            with open(Path(\"artifacts/data_validation/status.txt\"), \"r\") as f:\n",
    "                status = f.read().split(\" \")[-1]\n",
    "\n",
    "            if status == \"True\":\n",
    "                # Initialize configuration and transformation\n",
    "                config = ConfigurationManager()\n",
    "                data_transformation_config = config.data_transformation_config()\n",
    "                data_transformation = DataTransformation(config=data_transformation_config)\n",
    "                data_transformation.train_test_spliting()\n",
    "\n",
    "            else:\n",
    "                raise Exception(\"Your data schema is not valid\")\n",
    "           \n",
    "        except Exception as e:\n",
    "            raise e"
   ]
  },
  {
   "cell_type": "code",
   "execution_count": 14,
   "metadata": {},
   "outputs": [
    {
     "name": "stdout",
     "output_type": "stream",
     "text": [
      "[2025-02-26 01:32:56,825: INFO: common: YAML file: config\\config.yaml loaded successfully]\n",
      "[2025-02-26 01:32:56,829: INFO: common: YAML file: params.yaml loaded successfully]\n",
      "[2025-02-26 01:32:56,850: INFO: common: YAML file: schema.yaml loaded successfully]\n",
      "[2025-02-26 01:32:56,860: INFO: common: Created directory at: artifacts]\n",
      "[2025-02-26 01:32:56,865: INFO: common: Created directory at: artifacts/data_transformation]\n",
      "[2025-02-26 01:32:57,301: INFO: 1281790633: Split data into training and test sets]\n",
      "[2025-02-26 01:32:57,309: INFO: 1281790633: Training set shape: (1279, 12)]\n",
      "[2025-02-26 01:32:57,309: INFO: 1281790633: Test set shape: (320, 12)]\n",
      "Training set shape: (1279, 12)\n",
      "Test set shape: (320, 12)\n"
     ]
    }
   ],
   "source": [
    "try:\n",
    "     config = ConfigurationManager()\n",
    "     data_transformation_config = config.get_data_transformation_config()\n",
    "     data_transformation = DataTransformation(config=data_transformation_config)\n",
    "     data_transformation.train_test_spliting()\n",
    "except Exception as e:\n",
    "                raise e\n",
    "\n"
   ]
  }
 ],
 "metadata": {
  "kernelspec": {
   "display_name": "domwic",
   "language": "python",
   "name": "python3"
  },
  "language_info": {
   "codemirror_mode": {
    "name": "ipython",
    "version": 3
   },
   "file_extension": ".py",
   "mimetype": "text/x-python",
   "name": "python",
   "nbconvert_exporter": "python",
   "pygments_lexer": "ipython3",
   "version": "3.8.20"
  }
 },
 "nbformat": 4,
 "nbformat_minor": 2
}
