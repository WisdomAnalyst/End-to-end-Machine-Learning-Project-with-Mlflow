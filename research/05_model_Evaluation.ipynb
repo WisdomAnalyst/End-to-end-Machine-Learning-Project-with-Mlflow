{
 "cells": [
  {
   "cell_type": "code",
   "execution_count": 1,
   "metadata": {},
   "outputs": [],
   "source": [
    "import os\n"
   ]
  },
  {
   "cell_type": "code",
   "execution_count": 7,
   "metadata": {},
   "outputs": [
    {
     "data": {
      "text/plain": [
       "'c:\\\\Users\\\\user\\\\Desktop\\\\End-to end- ML-project-with-ML-flow\\\\End-to-end-Machine-Learning-Project-with-Mlflow'"
      ]
     },
     "execution_count": 7,
     "metadata": {},
     "output_type": "execute_result"
    }
   ],
   "source": [
    "pwd"
   ]
  },
  {
   "cell_type": "code",
   "execution_count": 10,
   "metadata": {},
   "outputs": [],
   "source": [
    "os.environ['MLFLOW_TRACKING_USERNAME'] = 'WisdomAnalyst'\n",
    "os.environ['MLFLOW_TRACKING_PASSWORD'] = '781aa8b98086477f57088d72da8f137a4686f662'\n",
    "os.environ['MLFLOW_TRACKING_URI'] = 'https://dagshub.com/WisdomAnalyst/End-to-end-Machine-Learning-Project-with-Mlflow.mlflow'"
   ]
  },
  {
   "cell_type": "code",
   "execution_count": 44,
   "metadata": {},
   "outputs": [],
   "source": [
    "from dataclasses import dataclass\n",
    "from pathlib import Path\n",
    "\n",
    "@dataclass(frozen=True)\n",
    "class ModelEvaluationConfig:\n",
    "    root_dir: Path\n",
    "    test_data_path: Path\n",
    "    model_path: Path\n",
    "    all_params: dict\n",
    "    metric_file_name: Path\n",
    "    target_column:str \n",
    "    mlflow_uri:str\n"
   ]
  },
  {
   "cell_type": "code",
   "execution_count": 45,
   "metadata": {},
   "outputs": [],
   "source": [
    "from Mlproject.constants import *\n",
    "from Mlproject.utils.common import read_yaml, create_directories\n",
    "import logging\n",
    "import json\n",
    "from pathlib import Path\n",
    "from box import ConfigBox\n",
    "\n",
    "logging.basicConfig(level=logging.INFO, format='[%(asctime)s]: %(message)s:')\n",
    "\n",
    "CONFIG_FILE_PATH = Path(\"config/config.yaml\")\n",
    "PARAMS_FILE_PATH = Path(\"params.yaml\")\n",
    "SCHEMA_FILE_PATH = Path(\"schema.yaml\")\n"
   ]
  },
  {
   "cell_type": "code",
   "execution_count": 46,
   "metadata": {},
   "outputs": [],
   "source": [
    "class ConfigurationManager:\n",
    "    def __init__(\n",
    "        self,\n",
    "        config_filepath=CONFIG_FILE_PATH,\n",
    "        params_filepath=PARAMS_FILE_PATH,\n",
    "        schema_filepath=SCHEMA_FILE_PATH\n",
    "    ):\n",
    "        self.config = ConfigBox(read_yaml(config_filepath))\n",
    "        self.params = ConfigBox(read_yaml(params_filepath))\n",
    "        self.schema = ConfigBox(read_yaml(schema_filepath))\n",
    "\n",
    "        logging.info(f\"Config contents: {self.config}\")\n",
    "        create_directories([self.config.artifacts_root])\n",
    "\n",
    "    def get_model_evaluation_config(self) -> ModelEvaluationConfig:\n",
    "        config = self.config.model_evaluation  \n",
    "        params = self.params.ElasticNet  \n",
    "        schema = self.schema.TARGET_COLUMN\n",
    "\n",
    "        create_directories([config.root_dir])\n",
    "\n",
    "        model_evaluation_config = ModelEvaluationConfig(\n",
    "            root_dir=config.root_dir,\n",
    "            test_data_path=config.test_data_path,\n",
    "            model_path=config.model_path,\n",
    "            all_params=params,\n",
    "            metric_file_name=config.metric_file_name,\n",
    "            target_column=schema.name,\n",
    "            mlflow_uri='https://dagshub.com/WisdomAnalyst/End-to-end-Machine-Learning-Project-with-Mlflow.mlflow'\n",
    "        )\n",
    "\n",
    "        return model_evaluation_config"
   ]
  },
  {
   "cell_type": "code",
   "execution_count": 47,
   "metadata": {},
   "outputs": [],
   "source": [
    "import os  \n",
    "import pandas as pd  \n",
    "from sklearn.metrics import mean_squared_error, mean_absolute_error, r2_score  \n",
    "from urllib.parse import urlparse  \n",
    "import mlflow  \n",
    "import mlflow.sklearn  \n",
    "import numpy as np  \n",
    "import joblib \n",
    "from typing import Any \n"
   ]
  },
  {
   "cell_type": "code",
   "execution_count": null,
   "metadata": {},
   "outputs": [],
   "source": [
    "\n",
    "def save_json(path: Path, data: Any):\n",
    "    \"\"\"Save data to a JSON file\"\"\"\n",
    "    path = Path(path)\n",
    "    with open(path, \"w\") as f:\n",
    "        json.dump(data, f, indent=4)\n",
    "\n",
    "\n",
    "class ModelEvaluation:\n",
    "    def __init__(self, config: ModelEvaluationConfig):  \n",
    "        self.config = config\n",
    "\n",
    "    def eval_metrics(self, actual, pred):\n",
    "        rmse = np.sqrt(mean_squared_error(actual, pred))  \n",
    "        mae = mean_absolute_error(actual, pred)\n",
    "        r2 = r2_score(actual, pred)\n",
    "        return rmse, mae, r2\n",
    "\n",
    "    def log_into_mlflow(self):\n",
    "        test_data = pd.read_csv(self.config.test_data_path)  \n",
    "        model = joblib.load(self.config.model_path)  \n",
    "\n",
    "        test_x = test_data.drop([self.config.target_column], axis=1)\n",
    "        test_y = test_data[[self.config.target_column]]\n",
    "\n",
    "        mlflow.set_registry_uri(self.config.mlflow_uri)  \n",
    "        tracking_url_type_store = urlparse(mlflow.get_tracking_uri()).scheme  \n",
    "\n",
    "        with mlflow.start_run(run_name=\"ElasticNet_Wine_Quality_Model\"):\n",
    "\n",
    "            # Add tags\n",
    "            mlflow.set_tag(\"model_type\", \"ElasticNet\")\n",
    "            mlflow.set_tag(\"data_source\", \"Wine Quality Dataset\")\n",
    "            mlflow.set_tag(\"experiment_description\", \"Baseline model with default parameters\")\n",
    "\n",
    "            # Log parameters\n",
    "            mlflow.log_params({\n",
    "                \"alpha\": self.config.all_params[\"alpha\"],\n",
    "                \"l1_ratio\": self.config.all_params[\"l1_ratio\"],\n",
    "                \"data_version\": \"v1.0\",\n",
    "                \"model_version\": \"ElasticNet_v1\"\n",
    "            })\n",
    "\n",
    "            \n",
    "            predicted_qualities = model.predict(test_x)\n",
    "            (rmse, mae, r2) = self.eval_metrics(test_y, predicted_qualities)\n",
    "\n",
    "            # Saving metrics as local\n",
    "            scores = {\"rmse\": rmse, \"mae\": mae, \"r2\": r2}\n",
    "            save_json(path=Path(self.config.metric_file_name), data=scores)  \n",
    "\n",
    "            # Log metrics to MLflow\n",
    "            mlflow.log_metric(\"rmse\", rmse)\n",
    "            mlflow.log_metric(\"r2\", r2)\n",
    "            mlflow.log_metric(\"mae\", mae)\n",
    "\n",
    "            # Log model to MLflow\n",
    "            if tracking_url_type_store != \"file\":\n",
    "                mlflow.sklearn.log_model(\n",
    "                    model, \n",
    "                    \"model\", \n",
    "                    registered_model_name=\"ElasticModel\"  \n",
    "                )\n",
    "            else:\n",
    "                mlflow.sklearn.log_model(model, \"model\")"
   ]
  },
  {
   "cell_type": "code",
   "execution_count": 49,
   "metadata": {},
   "outputs": [
    {
     "name": "stdout",
     "output_type": "stream",
     "text": [
      "[2025-02-25 16:47:56,182: INFO: common: YAML file: config\\config.yaml loaded successfully]\n",
      "[2025-02-25 16:47:56,242: INFO: common: YAML file: params.yaml loaded successfully]\n",
      "[2025-02-25 16:47:56,283: INFO: common: YAML file: schema.yaml loaded successfully]\n",
      "[2025-02-25 16:47:56,291: INFO: 1153941306: Config contents: {'artifacts_root': 'artifacts', 'data_ingestion': {'local_data_file': 'artifacts/data_ingestion/data.zip', 'root_dir': 'artifacts/data_ingestion', 'source_URL': 'https://github.com/WisdomAnalyst/FIFA-21-DATA-CLEANING-/raw/refs/heads/main/winequality-data.zip', 'unzip_dir': 'artifacts/data_ingestion'}, 'data_transformation': {'data_path': 'artifacts/data_ingestion/winequality-red.csv', 'root_dir': 'artifacts/data_transformation', 'test_data_path': 'artifacts/data_transformation/test.csv', 'train_data_path': 'artifacts/data_transformation/train.csv'}, 'data_validation': {'STATUS_FILE': 'artifacts/data_validation/status.txt', 'root_dir': 'artifacts/data_validation', 'unzip_data_dir': 'artifacts/data_ingestion/winequality-red.csv'}, 'model_trainer': {'root_dir': 'artifacts/model_trainer', 'test_data_path': 'artifacts/data_transformation/test.csv', 'train_data_path': 'artifacts/data_transformation/train.csv', 'model_name': 'model.joblib'}, 'model_evaluation': {'root_dir': 'artifacts/model_evaluation', 'test_data_path': 'artifacts/data_transformation/test.csv', 'model_path': 'artifacts/model_trainer/model.joblib', 'metric_file_name': 'artifacts/model_evaluation/metrics.json', 'mlflow_uri': 'https://dagshub.com/WisdomAnalyst/End-to-end-Machine-Learning-Project-with-Mlflow.mlflow'}}]\n",
      "[2025-02-25 16:47:56,291: INFO: common: Created directory at: artifacts]\n",
      "[2025-02-25 16:47:56,307: INFO: common: Created directory at: artifacts/model_evaluation]\n"
     ]
    },
    {
     "name": "stderr",
     "output_type": "stream",
     "text": [
      "Registered model 'ElasticModel' already exists. Creating a new version of this model...\n",
      "2025/02/25 16:48:24 INFO mlflow.tracking._model_registry.client: Waiting up to 300 seconds for model version to finish creation.                     Model name: ElasticModel, version 2\n",
      "Created version '2' of model 'ElasticModel'.\n"
     ]
    }
   ],
   "source": [
    "try:\n",
    "    config = ConfigurationManager()\n",
    "    model_evaluation_config = config.get_model_evaluation_config()\n",
    "    model_evaluation = ModelEvaluation(config=model_evaluation_config)\n",
    "    model_evaluation.log_into_mlflow()  \n",
    "except Exception as e:\n",
    "    raise e"
   ]
  }
 ],
 "metadata": {
  "kernelspec": {
   "display_name": "domwic",
   "language": "python",
   "name": "python3"
  },
  "language_info": {
   "codemirror_mode": {
    "name": "ipython",
    "version": 3
   },
   "file_extension": ".py",
   "mimetype": "text/x-python",
   "name": "python",
   "nbconvert_exporter": "python",
   "pygments_lexer": "ipython3",
   "version": "3.8.20"
  }
 },
 "nbformat": 4,
 "nbformat_minor": 2
}
